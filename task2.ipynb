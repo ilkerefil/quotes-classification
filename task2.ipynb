{
 "cells": [
  {
   "cell_type": "markdown",
   "id": "a794e2ab-9c34-4950-9bde-959edcbe04d3",
   "metadata": {},
   "source": [
    "# NAME : İlker Efil"
   ]
  },
  {
   "cell_type": "markdown",
   "id": "aa63751c-883e-4f1e-9e91-110b4b190452",
   "metadata": {},
   "source": [
    "# Scrape enough data"
   ]
  },
  {
   "cell_type": "code",
   "execution_count": 1,
   "id": "5199cb35-7a6c-4e31-8d4f-b53bf573050b",
   "metadata": {
    "tags": []
   },
   "outputs": [],
   "source": [
    "import requests\n",
    "from bs4 import BeautifulSoup\n",
    "import pandas as pd"
   ]
  },
  {
   "cell_type": "code",
   "execution_count": 2,
   "id": "5dd87462-df9e-42f2-a53e-56d226074d4e",
   "metadata": {
    "tags": []
   },
   "outputs": [],
   "source": [
    "# Function to scrape quotes\n",
    "def scrape_quotes(base_url):\n",
    "    quotes = []\n",
    "    url = base_url\n",
    "    while url:\n",
    "        response = requests.get(url)\n",
    "        soup = BeautifulSoup(response.text, 'html.parser')\n",
    "        for quote in soup.select('.quote'):\n",
    "            text = quote.select_one('.text').get_text(strip=True)\n",
    "            tags = [tag.get_text(strip=True) for tag in quote.select('.tag')]\n",
    "            quotes.append({'text': text, 'tags': tags})\n",
    "        next_btn = soup.select_one('li.next > a')\n",
    "        url = base_url + next_btn['href'] if next_btn else None\n",
    "    return quotes\n",
    "\n",
    "base_url = \"http://quotes.toscrape.com/\"\n",
    "quotes_data = scrape_quotes(base_url)\n",
    "df_quotes = pd.DataFrame(quotes_data)"
   ]
  },
  {
   "cell_type": "code",
   "execution_count": 3,
   "id": "d19d198d-c57b-426f-9a53-00c98e44a67e",
   "metadata": {
    "tags": []
   },
   "outputs": [
    {
     "data": {
      "text/html": [
       "<div>\n",
       "<style scoped>\n",
       "    .dataframe tbody tr th:only-of-type {\n",
       "        vertical-align: middle;\n",
       "    }\n",
       "\n",
       "    .dataframe tbody tr th {\n",
       "        vertical-align: top;\n",
       "    }\n",
       "\n",
       "    .dataframe thead th {\n",
       "        text-align: right;\n",
       "    }\n",
       "</style>\n",
       "<table border=\"1\" class=\"dataframe\">\n",
       "  <thead>\n",
       "    <tr style=\"text-align: right;\">\n",
       "      <th></th>\n",
       "      <th>text</th>\n",
       "      <th>tags</th>\n",
       "    </tr>\n",
       "  </thead>\n",
       "  <tbody>\n",
       "    <tr>\n",
       "      <th>0</th>\n",
       "      <td>“The world as we have created it is a process ...</td>\n",
       "      <td>[change, deep-thoughts, thinking, world]</td>\n",
       "    </tr>\n",
       "    <tr>\n",
       "      <th>1</th>\n",
       "      <td>“It is our choices, Harry, that show what we t...</td>\n",
       "      <td>[abilities, choices]</td>\n",
       "    </tr>\n",
       "    <tr>\n",
       "      <th>2</th>\n",
       "      <td>“There are only two ways to live your life. On...</td>\n",
       "      <td>[inspirational, life, live, miracle, miracles]</td>\n",
       "    </tr>\n",
       "    <tr>\n",
       "      <th>3</th>\n",
       "      <td>“The person, be it gentleman or lady, who has ...</td>\n",
       "      <td>[aliteracy, books, classic, humor]</td>\n",
       "    </tr>\n",
       "    <tr>\n",
       "      <th>4</th>\n",
       "      <td>“Imperfection is beauty, madness is genius and...</td>\n",
       "      <td>[be-yourself, inspirational]</td>\n",
       "    </tr>\n",
       "  </tbody>\n",
       "</table>\n",
       "</div>"
      ],
      "text/plain": [
       "                                                text  \\\n",
       "0  “The world as we have created it is a process ...   \n",
       "1  “It is our choices, Harry, that show what we t...   \n",
       "2  “There are only two ways to live your life. On...   \n",
       "3  “The person, be it gentleman or lady, who has ...   \n",
       "4  “Imperfection is beauty, madness is genius and...   \n",
       "\n",
       "                                             tags  \n",
       "0        [change, deep-thoughts, thinking, world]  \n",
       "1                            [abilities, choices]  \n",
       "2  [inspirational, life, live, miracle, miracles]  \n",
       "3              [aliteracy, books, classic, humor]  \n",
       "4                    [be-yourself, inspirational]  "
      ]
     },
     "execution_count": 3,
     "metadata": {},
     "output_type": "execute_result"
    }
   ],
   "source": [
    "df_quotes.head()"
   ]
  },
  {
   "cell_type": "markdown",
   "id": "a5a0b096-98c1-4b59-bdd5-b31592b23a4f",
   "metadata": {},
   "source": [
    "##### Data preprocessing\n",
    "\n",
    "Selecting Possible Labels:\n",
    "\n",
    "Analyze the frequency of tags and select the top 10 most frequent tags to ensure enough samples for reliable model training."
   ]
  },
  {
   "cell_type": "code",
   "execution_count": 4,
   "id": "c5b15f34-e4e2-4203-b25a-f9af6e6ed23e",
   "metadata": {
    "tags": []
   },
   "outputs": [],
   "source": [
    "from collections import Counter\n",
    "\n",
    "# Count frequency of each tag\n",
    "all_tags = [tag for tags in df_quotes['tags'] for tag in tags]\n",
    "top_10_tags = [tag for tag, _ in Counter(all_tags).most_common(10)]\n",
    "\n",
    "# Filter quotes with top 10 tags\n",
    "df_quotes['tags'] = df_quotes['tags'].apply(lambda tags: [tag for tag in tags if tag in top_10_tags])\n",
    "df_quotes = df_quotes[df_quotes['tags'].map(len) > 0]"
   ]
  },
  {
   "cell_type": "markdown",
   "id": "fc6ef99d-b5bb-496e-b273-a0b60c93f3b0",
   "metadata": {},
   "source": [
    "#  Convert text data into numeric data"
   ]
  },
  {
   "cell_type": "markdown",
   "id": "5c037c11-4aea-4fe6-9c6f-b6b6929f0f46",
   "metadata": {},
   "source": [
    "- Bag of Words (BoW): This technique involves creating a matrix where each row represents a document and each column represents a unique word from the entire dataset, with cell values indicating the frequency of the word in the document.\n",
    "\n",
    "- TF-IDF (Term Frequency-Inverse Document Frequency): Similar to BoW but gives more weight to words that are unique to a document by reducing the weight of words that frequently appear across all documents.\n",
    "\n",
    "- Word Embeddings (e.g., Word2Vec, GloVe): These techniques convert words into dense vectors of fixed size, capturing semantic relationships between words.\n",
    "\n",
    "Chosen Option and Rationale:\n",
    "\n",
    "TF-IDF: This method balances the importance of common and unique words, providing a good compromise between the simplicity of BoW and the complexity of Word Embeddings. It is also computationally efficient and performs well for many text classification tasks."
   ]
  },
  {
   "cell_type": "code",
   "execution_count": 5,
   "id": "47e9ab0d-883f-4d9b-93f7-2de2dd5cd591",
   "metadata": {
    "tags": []
   },
   "outputs": [],
   "source": [
    "from sklearn.feature_extraction.text import TfidfVectorizer\n",
    "from sklearn.preprocessing import MultiLabelBinarizer\n",
    "\n",
    "# Vectorize the text data\n",
    "vectorizer = TfidfVectorizer()\n",
    "X_tfidf = vectorizer.fit_transform(df_quotes['text'])\n",
    "\n",
    "# Convert the labels to a binary array\n",
    "mlb = MultiLabelBinarizer(classes=top_10_tags)\n",
    "y = mlb.fit_transform(df_quotes['tags'])"
   ]
  },
  {
   "cell_type": "markdown",
   "id": "5c1df541-e791-4d7b-a31f-2f6b88f15326",
   "metadata": {},
   "source": [
    "# Create a model"
   ]
  },
  {
   "cell_type": "markdown",
   "id": "c6ec638b-476b-428a-b67a-0f0c7062f4b0",
   "metadata": {},
   "source": [
    "**Model Choice:**\n",
    "\n",
    "Logistic Regression with OneVsRestClassifier: Chosen for its simplicity, interpretability, and effectiveness in multi-label classification."
   ]
  },
  {
   "cell_type": "code",
   "execution_count": 6,
   "id": "6a76dfea-6736-471d-af9c-0668a328a060",
   "metadata": {
    "tags": []
   },
   "outputs": [
    {
     "data": {
      "text/html": [
       "<style>#sk-container-id-1 {color: black;}#sk-container-id-1 pre{padding: 0;}#sk-container-id-1 div.sk-toggleable {background-color: white;}#sk-container-id-1 label.sk-toggleable__label {cursor: pointer;display: block;width: 100%;margin-bottom: 0;padding: 0.3em;box-sizing: border-box;text-align: center;}#sk-container-id-1 label.sk-toggleable__label-arrow:before {content: \"▸\";float: left;margin-right: 0.25em;color: #696969;}#sk-container-id-1 label.sk-toggleable__label-arrow:hover:before {color: black;}#sk-container-id-1 div.sk-estimator:hover label.sk-toggleable__label-arrow:before {color: black;}#sk-container-id-1 div.sk-toggleable__content {max-height: 0;max-width: 0;overflow: hidden;text-align: left;background-color: #f0f8ff;}#sk-container-id-1 div.sk-toggleable__content pre {margin: 0.2em;color: black;border-radius: 0.25em;background-color: #f0f8ff;}#sk-container-id-1 input.sk-toggleable__control:checked~div.sk-toggleable__content {max-height: 200px;max-width: 100%;overflow: auto;}#sk-container-id-1 input.sk-toggleable__control:checked~label.sk-toggleable__label-arrow:before {content: \"▾\";}#sk-container-id-1 div.sk-estimator input.sk-toggleable__control:checked~label.sk-toggleable__label {background-color: #d4ebff;}#sk-container-id-1 div.sk-label input.sk-toggleable__control:checked~label.sk-toggleable__label {background-color: #d4ebff;}#sk-container-id-1 input.sk-hidden--visually {border: 0;clip: rect(1px 1px 1px 1px);clip: rect(1px, 1px, 1px, 1px);height: 1px;margin: -1px;overflow: hidden;padding: 0;position: absolute;width: 1px;}#sk-container-id-1 div.sk-estimator {font-family: monospace;background-color: #f0f8ff;border: 1px dotted black;border-radius: 0.25em;box-sizing: border-box;margin-bottom: 0.5em;}#sk-container-id-1 div.sk-estimator:hover {background-color: #d4ebff;}#sk-container-id-1 div.sk-parallel-item::after {content: \"\";width: 100%;border-bottom: 1px solid gray;flex-grow: 1;}#sk-container-id-1 div.sk-label:hover label.sk-toggleable__label {background-color: #d4ebff;}#sk-container-id-1 div.sk-serial::before {content: \"\";position: absolute;border-left: 1px solid gray;box-sizing: border-box;top: 0;bottom: 0;left: 50%;z-index: 0;}#sk-container-id-1 div.sk-serial {display: flex;flex-direction: column;align-items: center;background-color: white;padding-right: 0.2em;padding-left: 0.2em;position: relative;}#sk-container-id-1 div.sk-item {position: relative;z-index: 1;}#sk-container-id-1 div.sk-parallel {display: flex;align-items: stretch;justify-content: center;background-color: white;position: relative;}#sk-container-id-1 div.sk-item::before, #sk-container-id-1 div.sk-parallel-item::before {content: \"\";position: absolute;border-left: 1px solid gray;box-sizing: border-box;top: 0;bottom: 0;left: 50%;z-index: -1;}#sk-container-id-1 div.sk-parallel-item {display: flex;flex-direction: column;z-index: 1;position: relative;background-color: white;}#sk-container-id-1 div.sk-parallel-item:first-child::after {align-self: flex-end;width: 50%;}#sk-container-id-1 div.sk-parallel-item:last-child::after {align-self: flex-start;width: 50%;}#sk-container-id-1 div.sk-parallel-item:only-child::after {width: 0;}#sk-container-id-1 div.sk-dashed-wrapped {border: 1px dashed gray;margin: 0 0.4em 0.5em 0.4em;box-sizing: border-box;padding-bottom: 0.4em;background-color: white;}#sk-container-id-1 div.sk-label label {font-family: monospace;font-weight: bold;display: inline-block;line-height: 1.2em;}#sk-container-id-1 div.sk-label-container {text-align: center;}#sk-container-id-1 div.sk-container {/* jupyter's `normalize.less` sets `[hidden] { display: none; }` but bootstrap.min.css set `[hidden] { display: none !important; }` so we also need the `!important` here to be able to override the default hidden behavior on the sphinx rendered scikit-learn.org. See: https://github.com/scikit-learn/scikit-learn/issues/21755 */display: inline-block !important;position: relative;}#sk-container-id-1 div.sk-text-repr-fallback {display: none;}</style><div id=\"sk-container-id-1\" class=\"sk-top-container\"><div class=\"sk-text-repr-fallback\"><pre>OneVsRestClassifier(estimator=LogisticRegression(max_iter=1000))</pre><b>In a Jupyter environment, please rerun this cell to show the HTML representation or trust the notebook. <br />On GitHub, the HTML representation is unable to render, please try loading this page with nbviewer.org.</b></div><div class=\"sk-container\" hidden><div class=\"sk-item sk-dashed-wrapped\"><div class=\"sk-label-container\"><div class=\"sk-label sk-toggleable\"><input class=\"sk-toggleable__control sk-hidden--visually\" id=\"sk-estimator-id-1\" type=\"checkbox\" ><label for=\"sk-estimator-id-1\" class=\"sk-toggleable__label sk-toggleable__label-arrow\">OneVsRestClassifier</label><div class=\"sk-toggleable__content\"><pre>OneVsRestClassifier(estimator=LogisticRegression(max_iter=1000))</pre></div></div></div><div class=\"sk-parallel\"><div class=\"sk-parallel-item\"><div class=\"sk-item\"><div class=\"sk-label-container\"><div class=\"sk-label sk-toggleable\"><input class=\"sk-toggleable__control sk-hidden--visually\" id=\"sk-estimator-id-2\" type=\"checkbox\" ><label for=\"sk-estimator-id-2\" class=\"sk-toggleable__label sk-toggleable__label-arrow\">estimator: LogisticRegression</label><div class=\"sk-toggleable__content\"><pre>LogisticRegression(max_iter=1000)</pre></div></div></div><div class=\"sk-serial\"><div class=\"sk-item\"><div class=\"sk-estimator sk-toggleable\"><input class=\"sk-toggleable__control sk-hidden--visually\" id=\"sk-estimator-id-3\" type=\"checkbox\" ><label for=\"sk-estimator-id-3\" class=\"sk-toggleable__label sk-toggleable__label-arrow\">LogisticRegression</label><div class=\"sk-toggleable__content\"><pre>LogisticRegression(max_iter=1000)</pre></div></div></div></div></div></div></div></div></div></div>"
      ],
      "text/plain": [
       "OneVsRestClassifier(estimator=LogisticRegression(max_iter=1000))"
      ]
     },
     "execution_count": 6,
     "metadata": {},
     "output_type": "execute_result"
    }
   ],
   "source": [
    "from sklearn.linear_model import LogisticRegression\n",
    "from sklearn.multiclass import OneVsRestClassifier\n",
    "from sklearn.model_selection import train_test_split\n",
    "\n",
    "# Split data\n",
    "X_train, X_test, y_train, y_test = train_test_split(X_tfidf, y, test_size=0.2, random_state=42)\n",
    "\n",
    "# Train Logistic Regression model\n",
    "lr_model = OneVsRestClassifier(LogisticRegression(max_iter=1000))\n",
    "lr_model.fit(X_train, y_train)"
   ]
  },
  {
   "cell_type": "markdown",
   "id": "6194e445-8aad-4e4b-8c69-0689ec13f614",
   "metadata": {},
   "source": [
    "# Train your model"
   ]
  },
  {
   "cell_type": "markdown",
   "id": "9be29d4a-b21c-44ef-98a9-18ec9c483455",
   "metadata": {},
   "source": [
    "There are multiple ways to train and optimize a model:\n",
    "\n",
    "- Basic Training: The simplest way to train the model is by fitting it directly on the training data. This involves setting basic parameters like maximum iterations.\n",
    "\n",
    "- Cross-Validation: Cross-validation helps in assessing the model's performance by splitting the data into different subsets and ensuring the model generalizes well to unseen data.\n",
    "\n",
    "\n",
    "- Hyperparameter Tuning: Hyperparameter tuning involves adjusting parameters to optimize model performance. This can be done using GridSearchCV or RandomizedSearchCV.\n",
    "\n",
    "Parameters to Tune:\n",
    "\n",
    "C: Inverse of regularization strength.\n",
    "\n",
    "max_iter: Maximum number of iterations for convergence."
   ]
  },
  {
   "cell_type": "code",
   "execution_count": 7,
   "id": "0d2d81f3-d299-4e37-ab5e-ce76bc0daf2d",
   "metadata": {
    "tags": []
   },
   "outputs": [
    {
     "name": "stdout",
     "output_type": "stream",
     "text": [
      "Fitting 5 folds for each of 9 candidates, totalling 45 fits\n",
      "Best parameters for Logistic Regression: {'estimator__C': 0.1, 'estimator__max_iter': 100}\n"
     ]
    }
   ],
   "source": [
    "from sklearn.model_selection import GridSearchCV\n",
    "\n",
    "# Define parameter grid for Logistic Regression\n",
    "param_grid_lr = {\n",
    "    'estimator__C': [0.1, 1, 10],\n",
    "    'estimator__max_iter': [100, 300, 1000]\n",
    "}\n",
    "\n",
    "# GridSearchCV for Logistic Regression\n",
    "grid_search_lr = GridSearchCV(OneVsRestClassifier(LogisticRegression(random_state=42)), param_grid_lr, cv=5, n_jobs=-1, verbose=1)\n",
    "grid_search_lr.fit(X_train, y_train)\n",
    "best_lr_model = grid_search_lr.best_estimator_\n",
    "print(\"Best parameters for Logistic Regression:\", grid_search_lr.best_params_)"
   ]
  },
  {
   "cell_type": "markdown",
   "id": "f1fd761c-cf81-4394-9b9f-ff30bf0c9163",
   "metadata": {},
   "source": [
    "# Evaluate your model"
   ]
  },
  {
   "cell_type": "code",
   "execution_count": 8,
   "id": "4cf8b2d7-8d33-4499-8598-62ba7a8b3a0e",
   "metadata": {
    "tags": []
   },
   "outputs": [
    {
     "name": "stderr",
     "output_type": "stream",
     "text": [
      "C:\\Users\\ilker\\anaconda3\\Lib\\site-packages\\sklearn\\metrics\\_classification.py:1469: UndefinedMetricWarning: Precision and F-score are ill-defined and being set to 0.0 in labels with no predicted samples. Use `zero_division` parameter to control this behavior.\n",
      "  _warn_prf(average, modifier, msg_start, len(result))\n",
      "C:\\Users\\ilker\\anaconda3\\Lib\\site-packages\\sklearn\\metrics\\_classification.py:1469: UndefinedMetricWarning: Precision and F-score are ill-defined and being set to 0.0 due to no predicted samples. Use `zero_division` parameter to control this behavior.\n",
      "  _warn_prf(average, modifier, msg_start, len(result))\n",
      "C:\\Users\\ilker\\anaconda3\\Lib\\site-packages\\sklearn\\metrics\\_classification.py:1469: UndefinedMetricWarning: Precision and F-score are ill-defined and being set to 0.0 in samples with no predicted labels. Use `zero_division` parameter to control this behavior.\n",
      "  _warn_prf(average, modifier, msg_start, len(result))\n"
     ]
    },
    {
     "name": "stdout",
     "output_type": "stream",
     "text": [
      "               precision    recall  f1-score   support\n",
      "\n",
      "         love       0.00      0.00      0.00         2\n",
      "inspirational       0.00      0.00      0.00         3\n",
      "         life       0.00      0.00      0.00         4\n",
      "        humor       0.00      0.00      0.00         4\n",
      "        books       0.00      0.00      0.00         1\n",
      "      reading       0.00      0.00      0.00         1\n",
      "   friendship       0.00      0.00      0.00         1\n",
      "      friends       0.00      0.00      0.00         1\n",
      "        truth       0.00      0.00      0.00         1\n",
      "       simile       0.00      0.00      0.00         1\n",
      "\n",
      "    micro avg       0.00      0.00      0.00        19\n",
      "    macro avg       0.00      0.00      0.00        19\n",
      " weighted avg       0.00      0.00      0.00        19\n",
      "  samples avg       0.00      0.00      0.00        19\n",
      "\n"
     ]
    },
    {
     "data": {
      "image/png": "[encoded data removed]",
      "text/plain": [
       "<Figure size 1000x800 with 2 Axes>"
      ]
     },
     "metadata": {},
     "output_type": "display_data"
    }
   ],
   "source": [
    "from sklearn.metrics import classification_report\n",
    "import numpy as np\n",
    "import seaborn as sns\n",
    "import matplotlib.pyplot as plt\n",
    "from sklearn.metrics import confusion_matrix\n",
    "\n",
    "# Make predictions\n",
    "y_pred = best_lr_model.predict(X_test)\n",
    "\n",
    "# Classification report\n",
    "print(classification_report(y_test, y_pred, target_names=mlb.classes_))\n",
    "\n",
    "# Confusion matrix\n",
    "conf_mat = confusion_matrix(y_test.argmax(axis=1), y_pred.argmax(axis=1))\n",
    "\n",
    "# Plot confusion matrix\n",
    "plt.figure(figsize=(10, 8))\n",
    "sns.heatmap(conf_mat, annot=True, fmt='d', xticklabels=mlb.classes_, yticklabels=mlb.classes_)\n",
    "plt.xlabel('Predicted')\n",
    "plt.ylabel('Actual')\n",
    "plt.title('Confusion Matrix')\n",
    "plt.show()"
   ]
  },
  {
   "cell_type": "markdown",
   "id": "c396dd2c-c43d-4e53-b391-c4f919e2847e",
   "metadata": {},
   "source": [
    "---------------"
   ]
  },
  {
   "cell_type": "markdown",
   "id": "b4e3f8df-bd21-446b-b735-f7a50ccd11d2",
   "metadata": {},
   "source": [
    "---------------"
   ]
  },
  {
   "cell_type": "markdown",
   "id": "52d84a70-468c-4486-8852-5e1a7cfa481f",
   "metadata": {},
   "source": [
    "---------------"
   ]
  },
  {
   "cell_type": "markdown",
   "id": "222661a4-027c-4747-8534-b769041d282d",
   "metadata": {},
   "source": [
    "### Learning Curve"
   ]
  },
  {
   "cell_type": "code",
   "execution_count": 9,
   "id": "f5953159-fcfb-4164-ad8a-96de84a34f3d",
   "metadata": {},
   "outputs": [
    {
     "data": {
      "image/png": "[encoded data removed]",
      "text/plain": [
       "<Figure size 640x480 with 1 Axes>"
      ]
     },
     "metadata": {},
     "output_type": "display_data"
    }
   ],
   "source": [
    "from sklearn.model_selection import learning_curve\n",
    "\n",
    "def plot_learning_curve(estimator, X, y, cv=5):\n",
    "    train_sizes, train_scores, test_scores = learning_curve(estimator, X, y, cv=cv, n_jobs=-1, train_sizes=np.linspace(0.1, 1.0, 10))\n",
    "    train_scores_mean = np.mean(train_scores, axis=1)\n",
    "    test_scores_mean = np.mean(test_scores, axis=1)\n",
    "\n",
    "    plt.figure()\n",
    "    plt.plot(train_sizes, train_scores_mean, 'o-', color='r', label='Training score')\n",
    "    plt.plot(train_sizes, test_scores_mean, 'o-', color='g', label='Cross-validation score')\n",
    "    plt.xlabel('Training Size')\n",
    "    plt.ylabel('Score')\n",
    "    plt.legend(loc='best')\n",
    "    plt.title('Learning Curve')\n",
    "    plt.grid()\n",
    "    plt.show()\n",
    "\n",
    "# Using the RandomForestClassifier with OneVsRest strategy\n",
    "plot_learning_curve(OneVsRestClassifier(LogisticRegression(random_state=42)), X_tfidf, y)"
   ]
  },
  {
   "cell_type": "markdown",
   "id": "ab327c8b-8bf8-4995-aa1d-1a81ae7eed03",
   "metadata": {},
   "source": [
    "**The graph shows that both the training and cross-validation scores are low, and there isn't any significant improvement as the training size increases. This suggests that the model is not learning well due to the lack of sufficient data.**"
   ]
  },
  {
   "cell_type": "markdown",
   "id": "c23b779f-27a3-4cd9-9e58-5b05c7ae776b",
   "metadata": {},
   "source": [
    "-------------"
   ]
  },
  {
   "cell_type": "markdown",
   "id": "41727810-d7a2-430d-8b0e-56e68ed7df23",
   "metadata": {},
   "source": [
    "-------------"
   ]
  },
  {
   "cell_type": "markdown",
   "id": "557ea515-53a8-4ce6-988e-24e242e4a7ab",
   "metadata": {},
   "source": [
    "-------------"
   ]
  },
  {
   "cell_type": "markdown",
   "id": "79eace36-f2f0-49f1-98ba-de279b06edf5",
   "metadata": {
    "tags": []
   },
   "source": [
    "**What could you do better if you were given enough resources?**\n",
    "\n",
    "More Data:\n",
    "   - This would help the model learn better and be more accurate.\n",
    "   \n",
    "Better Models:\n",
    "   - Deep learning models like BERT, GPT-3, or Transformer models which can understand context better and improve classification accuracy.\n",
    "\n",
    "Improved Tuning:\n",
    "   - More sophisticated methods to find the best model settings.\n",
    "\n",
    "**What improvements can be made on the project?**\n",
    "\n",
    "Real-Time Use:\n",
    "   - API Development: Create an API for instant quote classification.\n",
    "   - User Interface: Design an easy-to-use interface for the API.\n",
    "\n",
    "Better Evaluation:\n",
    "   - Custom Metrics: Develop metrics that better match the project needs.\n",
    "   - Robust Evaluation: Use thorough testing methods to ensure reliability.\n",
    "\n",
    "**Where could you use such a project?**\n",
    "\n",
    "Sentiment Analysis Tools:\n",
    "   - Improve tools that analyze text by adding topic classification for quotes.\n",
    "\n",
    "Educational Platforms:\n",
    "   - Help students and teachers find quotes by category for assignments and projects.\n",
    "\n",
    "**Summary**\n",
    "\n",
    "**Decisions:**\n",
    "\n",
    "- **Data Source:** Quotes to Scrape\n",
    "- **Preprocessing:** Focused on the top 10 tags and used TF-IDF to convert text to numbers.\n",
    "- **Model Selection:** Used Logistic Regression with OneVsRestClassifier for multi-label classification.\n",
    "- **Evaluation:** Used classification reports and confusion matrices to check performance.\n",
    "- **Optimization:** Applied hyperparameter tuning to improve the model.\n",
    "\n",
    "With more resources, the project can be enhanced by collecting more data, using advanced models, improving feature engineering, and leveraging better computing power. These steps would lead to a more accurate and user-friendly quote classification system suitable for various applications."
   ]
  },
  {
   "cell_type": "code",
   "execution_count": null,
   "id": "8aabdaf5-c073-4706-8bd8-e7eab0d1afaa",
   "metadata": {},
   "outputs": [],
   "source": []
  }
 ],
 "metadata": {
  "kernelspec": {
   "display_name": "Python 3 (ipykernel)",
   "language": "python",
   "name": "python3"
  },
  "language_info": {
   "codemirror_mode": {
    "name": "ipython",
    "version": 3
   },
   "file_extension": ".py",
   "mimetype": "text/x-python",
   "name": "python",
   "nbconvert_exporter": "python",
   "pygments_lexer": "ipython3",
   "version": "3.11.4"
  }
 },
 "nbformat": 4,
 "nbformat_minor": 5
}
